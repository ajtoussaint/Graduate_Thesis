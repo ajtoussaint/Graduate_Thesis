{
 "cells": [
  {
   "cell_type": "markdown",
   "id": "43d88b61-42cd-40b7-9f39-f3f55d9bdf56",
   "metadata": {},
   "source": [
    "This code is heavily based on Edu CDM:</br>\n",
    "@misc{bigdata2021educdm,\n",
    "  title={EduCDM},\n",
    "  author={bigdata-ustc},\n",
    "  publisher = {GitHub},\n",
    "  journal = {GitHub repository},\n",
    "  year = {2021},\n",
    "  howpublished = {\\url{https://github.com/bigdata-ustc/EduCDM}},\n",
    "}<br></br>\n",
    "Specifically the presentation of the DINA model and example as proposed in: </br>\n",
    "De La Torre, Jimmy. \"DINA model and parameter estimation: A didactic.\" _Journal of educational and behavioral statistics_ 34.1 (2009): 115-130."
   ]
  },
  {
   "cell_type": "markdown",
   "id": "ec15ca5e-c372-4aac-82b4-5622063db3a3",
   "metadata": {
    "id": "xSeolLzjIA1z"
   },
   "source": [
    "# Package Links\n",
    "EduData: https://pypi.org/project/EduData/\n",
    "EduCDM: https://pypi.org/project/EduCDM/"
   ]
  },
  {
   "cell_type": "code",
   "execution_count": 1,
   "id": "9233c3a9-dd2f-49a2-8452-26f3c2bff0d9",
   "metadata": {
    "colab": {
     "base_uri": "https://localhost:8080/"
    },
    "id": "MrqZsbSFFY-q",
    "outputId": "a953df41-c744-43c4-b7d9-c166ceb28f31"
   },
   "outputs": [],
   "source": [
    "!pip --quiet install EduData\n",
    "!pip --quiet install EduCDM"
   ]
  },
  {
   "cell_type": "code",
   "execution_count": 2,
   "id": "e5b2ba37-e343-4c13-9d5c-0ea8b6c7d8c0",
   "metadata": {
    "colab": {
     "base_uri": "https://localhost:8080/",
     "height": 229
    },
    "id": "HYHr0z4WFuh4",
    "outputId": "41e95b14-f007-4f6e-caf1-3717076bc6b9"
   },
   "outputs": [
    {
     "name": "stderr",
     "output_type": "stream",
     "text": [
      "downloader, INFO http://base.ustc.edu.cn/data/cdbd/a0910/item.csv is saved as ..\\data\\a0910\\item.csv\n",
      "downloader, INFO file existed, skipped\n"
     ]
    },
    {
     "data": {
      "text/plain": [
       "'..\\\\data'"
      ]
     },
     "execution_count": 2,
     "metadata": {},
     "output_type": "execute_result"
    }
   ],
   "source": [
    "#use package for easy download of files\n",
    "from EduData import get_data\n",
    "get_data(\"cdbd-a0910\", \"../data\")"
   ]
  },
  {
   "cell_type": "markdown",
   "id": "8719019f-0646-4bd2-8ace-1e623c6cfbd0",
   "metadata": {
    "id": "-96HqT72GKRq"
   },
   "source": [
    "# Data Wrangling"
   ]
  },
  {
   "cell_type": "code",
   "execution_count": 59,
   "id": "6ecaf2d3-97a5-4c36-96fe-5a3245e0580e",
   "metadata": {},
   "outputs": [
    {
     "data": {
      "text/html": [
       "<div>\n",
       "<style scoped>\n",
       "    .dataframe tbody tr th:only-of-type {\n",
       "        vertical-align: middle;\n",
       "    }\n",
       "\n",
       "    .dataframe tbody tr th {\n",
       "        vertical-align: top;\n",
       "    }\n",
       "\n",
       "    .dataframe thead th {\n",
       "        text-align: right;\n",
       "    }\n",
       "</style>\n",
       "<table border=\"1\" class=\"dataframe\">\n",
       "  <thead>\n",
       "    <tr style=\"text-align: right;\">\n",
       "      <th></th>\n",
       "      <th>item_id</th>\n",
       "      <th>knowledge_code</th>\n",
       "    </tr>\n",
       "  </thead>\n",
       "  <tbody>\n",
       "    <tr>\n",
       "      <th>0</th>\n",
       "      <td>12977</td>\n",
       "      <td>[83]</td>\n",
       "    </tr>\n",
       "    <tr>\n",
       "      <th>1</th>\n",
       "      <td>13124</td>\n",
       "      <td>[83]</td>\n",
       "    </tr>\n",
       "    <tr>\n",
       "      <th>2</th>\n",
       "      <td>16475</td>\n",
       "      <td>[107]</td>\n",
       "    </tr>\n",
       "    <tr>\n",
       "      <th>3</th>\n",
       "      <td>8690</td>\n",
       "      <td>[48]</td>\n",
       "    </tr>\n",
       "    <tr>\n",
       "      <th>4</th>\n",
       "      <td>14225</td>\n",
       "      <td>[96]</td>\n",
       "    </tr>\n",
       "  </tbody>\n",
       "</table>\n",
       "</div>"
      ],
      "text/plain": [
       "   item_id knowledge_code\n",
       "0    12977           [83]\n",
       "1    13124           [83]\n",
       "2    16475          [107]\n",
       "3     8690           [48]\n",
       "4    14225           [96]"
      ]
     },
     "execution_count": 59,
     "metadata": {},
     "output_type": "execute_result"
    }
   ],
   "source": [
    "import pandas as pd # based on IRT EM implementation\n",
    "\n",
    "train_data = pd.read_csv(\"../data/a0910/train.csv\")\n",
    "valid_data = pd.read_csv(\"../data/a0910/valid.csv\")\n",
    "test_data = pd.read_csv(\"../data/a0910/test.csv\")\n",
    "item_data = pd.read_csv(\"../data/a0910/item.csv\")\n",
    "\n",
    "item_data.head(5)"
   ]
  },
  {
   "cell_type": "code",
   "execution_count": 60,
   "id": "34e8ae36-6b0e-4514-b0ea-bb59c122fb47",
   "metadata": {},
   "outputs": [
    {
     "data": {
      "text/plain": [
       "(186049, 25606, 55760)"
      ]
     },
     "execution_count": 60,
     "metadata": {},
     "output_type": "execute_result"
    }
   ],
   "source": [
    "len(train_data), len(valid_data), len(test_data)"
   ]
  },
  {
   "cell_type": "code",
   "execution_count": 61,
   "id": "e672feb0-becf-4bf4-9abe-a98a22487161",
   "metadata": {},
   "outputs": [
    {
     "name": "stdout",
     "output_type": "stream",
     "text": [
      "4128 17746\n"
     ]
    }
   ],
   "source": [
    "stu_num = max(max(train_data['user_id']), max(test_data['user_id']))\n",
    "prob_num = max(max(train_data['item_id']), max(test_data['item_id']))\n",
    "print(stu_num, prob_num)"
   ]
  },
  {
   "cell_type": "code",
   "execution_count": 62,
   "id": "84d71ee1-9c88-4a63-b5ed-8863a00ae901",
   "metadata": {},
   "outputs": [
    {
     "data": {
      "text/plain": [
       "[1, 10]"
      ]
     },
     "execution_count": 62,
     "metadata": {},
     "output_type": "execute_result"
    }
   ],
   "source": [
    "x = json.loads(item_data.iloc[1857]['knowledge_code'])\n",
    "x"
   ]
  },
  {
   "cell_type": "code",
   "execution_count": 92,
   "id": "eac83f1f-ab28-4fd6-a396-120595dc9309",
   "metadata": {},
   "outputs": [
    {
     "data": {
      "text/plain": [
       "(1.0, 123)"
      ]
     },
     "execution_count": 92,
     "metadata": {},
     "output_type": "execute_result"
    }
   ],
   "source": [
    "# determine the number of knowledge concepts in the dataset\n",
    "k_c_ids = []\n",
    "\n",
    "import json\n",
    "import numpy as np\n",
    "\n",
    "k_cs = item_data['knowledge_code']\n",
    "for codes in k_cs:\n",
    "    arr = json.loads(codes)\n",
    "    for code in arr:\n",
    "        k_c_ids.append(code)\n",
    "np_kcids = np.array(k_c_ids)\n",
    "know_num = int(max(np_kcids))\n",
    "\n",
    "#construct a Q matrix\n",
    "q_m = np.zeros((prob_num, know_num))\n",
    "for index, item in item_data.iterrows():\n",
    "    arr = json.loads(item['knowledge_code'])\n",
    "    for code in arr:\n",
    "        q_m[item['item_id'] -1, code -1] = 1\n",
    "sum(q_m[12976]), int(know_num) #should be 1\n"
   ]
  },
  {
   "cell_type": "code",
   "execution_count": 93,
   "id": "916bd517-7bab-4706-ac31-6bccefb5256e",
   "metadata": {},
   "outputs": [],
   "source": [
    "R = -1 * np.ones(shape=(stu_num, prob_num))\n",
    "R[train_data['user_id']-1, train_data['item_id']-1] = train_data['score'] #R matrix shows each question a student answered and whether they got it correct or incorrect\n",
    "\n",
    "test_set = []\n",
    "for i in range(len(test_data)):\n",
    "    row = test_data.iloc[i]\n",
    "    test_set.append({'user_id':int(row['user_id'])-1, 'item_id':int(row['item_id'])-1, 'score':row['score']})"
   ]
  },
  {
   "cell_type": "markdown",
   "id": "2a3336be-f29a-44bc-8b38-d304bffaf2fa",
   "metadata": {},
   "source": [
    "# Building the Model"
   ]
  },
  {
   "cell_type": "code",
   "execution_count": 94,
   "id": "8e71e725-bd3f-432f-96eb-b4f0682c63c4",
   "metadata": {},
   "outputs": [],
   "source": [
    "import logging\n",
    "logging.getLogger().setLevel(logging.INFO)"
   ]
  },
  {
   "cell_type": "code",
   "execution_count": 109,
   "id": "810e9521-e774-4ac2-b3a6-efb382e95edd",
   "metadata": {},
   "outputs": [],
   "source": [
    "# from EduCDM import GDDINA as DINA\n",
    "class CDM(object):\n",
    "    def __init__(self, *args, **kwargs) -> ...:\n",
    "        pass\n",
    "\n",
    "    def train(self, *args, **kwargs) -> ...:\n",
    "        raise NotImplementedError\n",
    "\n",
    "    def eval(self, *args, **kwargs) -> ...:\n",
    "        raise NotImplementedError\n",
    "\n",
    "    def save(self, *args, **kwargs) -> ...:\n",
    "        raise NotImplementedError\n",
    "\n",
    "    def load(self, *args, **kwargs) -> ...:\n",
    "        raise NotImplementedError\n",
    "\n",
    "import logging\n",
    "import numpy as np\n",
    "from tqdm import tqdm\n",
    "import pickle\n",
    "from sklearn.metrics import roc_auc_score, accuracy_score, mean_squared_error\n",
    "\n",
    "def initial_all_knowledge_state(know_num):\n",
    "    state_num = min(2 ** know_num, 32)\n",
    "    all_states = np.zeros((state_num, know_num))\n",
    "    for i in range(state_num):\n",
    "        k, quotient, residue = 1, i // 2, i % 2\n",
    "        while True:\n",
    "            all_states[i, know_num - k] = residue\n",
    "            if quotient <= 0:\n",
    "                break\n",
    "            quotient, residue = quotient // 2, quotient % 2\n",
    "            k += 1\n",
    "    return all_states\n",
    "\n",
    "\n",
    "def init_parameters(stu_num, prob_num):\n",
    "    slip = np.zeros(shape=prob_num) + 0.2\n",
    "    guess = np.zeros(shape=prob_num) + 0.2\n",
    "    theta = np.zeros(shape=stu_num)  # index of state\n",
    "    return theta, slip, guess\n",
    "\n",
    "\n",
    "class DINA(CDM):\n",
    "    \"\"\"\n",
    "        DINA model, training (EM) and testing methods\n",
    "        :param R (array): response matrix, shape = (stu_num, prob_num)\n",
    "        :param q_m (array): Q matrix, shape = (prob_num, know_num)\n",
    "        :param stu_num (int): number of students\n",
    "        :param prob_num (int): number of problems\n",
    "        :param know_num (int): number of knowledge\n",
    "        :param skip_value (int): skip value in response matrix\n",
    "    \"\"\"\n",
    "\n",
    "    def __init__(self, R, q_m, stu_num, prob_num, know_num, skip_value=-1):\n",
    "        self.R, self.q_m, self.state_num, self.skip_value = R, q_m, min(2 ** know_num, 32),  skip_value #numpy will not allow more than 32 dimensions :(\n",
    "        self.stu_num, self.prob_num, self.know_num = stu_num, prob_num, know_num\n",
    "        self.theta, self.slip, self.guess = init_parameters(stu_num, prob_num)\n",
    "        self.all_states = initial_all_knowledge_state(know_num)  # shape = (state_num, know_num)\n",
    "        state_prob = np.transpose(np.sum(q_m, axis=1, keepdims=True) - np.dot(q_m, np.transpose(self.all_states)))\n",
    "        self.eta = 1 - (state_prob > 0)  # state covers knowledge of problem (1: yes), shape = (state_num, prob_num)\n",
    "# This will take a long time even at only 32 dims\n",
    "    def train(self, epoch, epsilon) -> ...:\n",
    "        like = np.zeros(shape=(self.stu_num, self.state_num))  # likelihood\n",
    "        post = np.zeros(shape=(self.stu_num, self.state_num))  # posterior\n",
    "        theta, slip, guess, tmp_R = np.copy(self.theta), np.copy(self.slip), np.copy(self.guess), np.copy(self.R)\n",
    "        tmp_R[np.where(self.R == self.skip_value)[0], np.where(self.R == self.skip_value)[1]] = 0\n",
    "        for iteration in range(epoch):\n",
    "            post_tmp, slip_tmp, guess_tmp = np.copy(post), np.copy(slip), np.copy(guess)\n",
    "            answer_right = (1 - slip) * self.eta + guess * (1 - self.eta)\n",
    "            for s in range(self.state_num):\n",
    "                log_like = np.log(answer_right[s, :] + 1e-9) * self.R + np.log(1 - answer_right[s, :] + 1e-9) * (\n",
    "                    1 - self.R)\n",
    "                log_like[np.where(self.R == self.skip_value)[0], np.where(self.R == self.skip_value)[1]] = 0\n",
    "                like[:, s] = np.exp(np.sum(log_like, axis=1))\n",
    "            post = like / np.sum(like, axis=1, keepdims=True)\n",
    "            i_l = np.expand_dims(np.sum(post, axis=0), axis=1)  # shape = (state_num, 1)\n",
    "            r_jl = np.dot(np.transpose(post), tmp_R)  # shape = (state_num, prob_num)\n",
    "            r_jl_0, r_jl_1 = np.sum(r_jl * (1 - self.eta), axis=0), np.sum(r_jl * self.eta, axis=0)\n",
    "            i_jl_0, i_jl_1 = np.sum(i_l * (1 - self.eta), axis=0), np.sum(i_l * self.eta, axis=0)\n",
    "            guess, slip = r_jl_0 / i_jl_0, (i_jl_1 - r_jl_1) / i_jl_1\n",
    "\n",
    "            change = max(np.max(np.abs(post - post_tmp)), np.max(np.abs(slip - slip_tmp)),\n",
    "                         np.max(np.abs(guess - guess_tmp)))\n",
    "            theta = np.argmax(post, axis=1)\n",
    "            if iteration > 20 and change < epsilon:\n",
    "                break\n",
    "        self.theta, self.slip, self.guess = theta, slip, guess\n",
    "\n",
    "    def eval(self, test_data) -> tuple:\n",
    "        pred_score = (1 - self.slip) * self.eta + self.guess * (1 - self.eta)\n",
    "        test_rmse, test_mae, y_true, y_pred = [], [], [], []\n",
    "        for i in tqdm(test_data, \"evaluating\"):\n",
    "            stu, test_id, true_score = i['user_id'], i['item_id'], i['score']\n",
    "            test_rmse.append((pred_score[self.theta[stu], test_id] - true_score) ** 2)\n",
    "            test_mae.append(abs(pred_score[self.theta[stu], test_id] - true_score))\n",
    "            #for ACC and AUC\n",
    "            predicted = pred_score[stu, test_id]\n",
    "            y_true.append(true_score)\n",
    "            y_pred.append(predicted)\n",
    "    \n",
    "        rmse = np.sqrt(np.average(test_rmse))\n",
    "        mae = np.average(test_mae)\n",
    "        accuracy = accuracy_score(y_true, [1 if p >= 0.5 else 0 for p in y_pred])\n",
    "        auc = roc_auc_score(y_true, y_pred)\n",
    "        \n",
    "        return rmse, mae, accuracy, auc\n",
    "\n",
    "    def save(self, filepath):\n",
    "        with open(filepath, 'wb') as file:\n",
    "            pickle.dump({\"theta\": self.theta, \"slip\": self.slip, \"guess\": self.guess}, file)\n",
    "            logging.info(\"save parameters to %s\" % filepath)\n",
    "\n",
    "    def load(self, filepath):\n",
    "        with open(filepath, 'rb') as file:\n",
    "            self.theta, self.slip, self.guess = pickle.load(file).values()\n",
    "            logging.info(\"load parameters from %s\" % filepath)\n",
    "\n",
    "    def inc_train(self, inc_train_data, epoch, epsilon):  # incremental training\n",
    "        for i in inc_train_data:\n",
    "            stu, test_id, true_score = i['user_id'], i['item_id'], i['score']\n",
    "            self.R[stu, test_id] = true_score\n",
    "        self.train(epoch, epsilon)\n",
    "\n",
    "    def transform(self, records):  # MLE for evaluating student's state\n",
    "        # max_like_id: diagnose which state among all_states the student belongs to\n",
    "        # dia_state: binaray vector of length know_num, 0/1 indicates whether masters the knowledge\n",
    "        answer_right = (1 - self.slip) * self.eta + self.guess * (1 - self.eta)\n",
    "        log_like = records * np.log(answer_right + 1e-9) + (1 - records) * np.log(1 - answer_right + 1e-9)\n",
    "        log_like[:, np.where(records == self.skip_value)[0]] = 0\n",
    "        max_like_id = np.argmax(np.exp(np.sum(log_like, axis=1)))\n",
    "        dia_state = self.all_states[max_like_id]\n",
    "        return max_like_id, dia_state\n"
   ]
  },
  {
   "cell_type": "code",
   "execution_count": 110,
   "id": "165f8a05-e154-405f-9134-c4ca7e3b3084",
   "metadata": {},
   "outputs": [
    {
     "name": "stderr",
     "output_type": "stream",
     "text": [
      "C:\\Users\\Andrew\\AppData\\Local\\Temp\\ipykernel_10916\\3630360882.py:77: RuntimeWarning: invalid value encountered in divide\n",
      "  post = like / np.sum(like, axis=1, keepdims=True)\n"
     ]
    },
    {
     "ename": "KeyboardInterrupt",
     "evalue": "",
     "output_type": "error",
     "traceback": [
      "\u001b[1;31m---------------------------------------------------------------------------\u001b[0m",
      "\u001b[1;31mKeyboardInterrupt\u001b[0m                         Traceback (most recent call last)",
      "Cell \u001b[1;32mIn[110], line 3\u001b[0m\n\u001b[0;32m      1\u001b[0m cdm \u001b[38;5;241m=\u001b[39m DINA(R, q_m, stu_num, prob_num, know_num, skip_value\u001b[38;5;241m=\u001b[39m\u001b[38;5;241m-\u001b[39m\u001b[38;5;241m1\u001b[39m)\n\u001b[1;32m----> 3\u001b[0m \u001b[43mcdm\u001b[49m\u001b[38;5;241;43m.\u001b[39;49m\u001b[43mtrain\u001b[49m\u001b[43m(\u001b[49m\u001b[43mepoch\u001b[49m\u001b[38;5;241;43m=\u001b[39;49m\u001b[38;5;241;43m2\u001b[39;49m\u001b[43m,\u001b[49m\u001b[43m \u001b[49m\u001b[43mepsilon\u001b[49m\u001b[38;5;241;43m=\u001b[39;49m\u001b[38;5;241;43m1e-3\u001b[39;49m\u001b[43m)\u001b[49m\n\u001b[0;32m      4\u001b[0m cdm\u001b[38;5;241m.\u001b[39msave(\u001b[38;5;124m\"\u001b[39m\u001b[38;5;124mdina.params\u001b[39m\u001b[38;5;124m\"\u001b[39m)\n",
      "Cell \u001b[1;32mIn[109], line 75\u001b[0m, in \u001b[0;36mDINA.train\u001b[1;34m(self, epoch, epsilon)\u001b[0m\n\u001b[0;32m     72\u001b[0m \u001b[38;5;28;01mfor\u001b[39;00m s \u001b[38;5;129;01min\u001b[39;00m \u001b[38;5;28mrange\u001b[39m(\u001b[38;5;28mself\u001b[39m\u001b[38;5;241m.\u001b[39mstate_num):\n\u001b[0;32m     73\u001b[0m     log_like \u001b[38;5;241m=\u001b[39m np\u001b[38;5;241m.\u001b[39mlog(answer_right[s, :] \u001b[38;5;241m+\u001b[39m \u001b[38;5;241m1e-9\u001b[39m) \u001b[38;5;241m*\u001b[39m \u001b[38;5;28mself\u001b[39m\u001b[38;5;241m.\u001b[39mR \u001b[38;5;241m+\u001b[39m np\u001b[38;5;241m.\u001b[39mlog(\u001b[38;5;241m1\u001b[39m \u001b[38;5;241m-\u001b[39m answer_right[s, :] \u001b[38;5;241m+\u001b[39m \u001b[38;5;241m1e-9\u001b[39m) \u001b[38;5;241m*\u001b[39m (\n\u001b[0;32m     74\u001b[0m         \u001b[38;5;241m1\u001b[39m \u001b[38;5;241m-\u001b[39m \u001b[38;5;28mself\u001b[39m\u001b[38;5;241m.\u001b[39mR)\n\u001b[1;32m---> 75\u001b[0m     log_like[np\u001b[38;5;241m.\u001b[39mwhere(\u001b[38;5;28mself\u001b[39m\u001b[38;5;241m.\u001b[39mR \u001b[38;5;241m==\u001b[39m \u001b[38;5;28mself\u001b[39m\u001b[38;5;241m.\u001b[39mskip_value)[\u001b[38;5;241m0\u001b[39m], \u001b[43mnp\u001b[49m\u001b[38;5;241;43m.\u001b[39;49m\u001b[43mwhere\u001b[49m\u001b[43m(\u001b[49m\u001b[38;5;28;43mself\u001b[39;49m\u001b[38;5;241;43m.\u001b[39;49m\u001b[43mR\u001b[49m\u001b[43m \u001b[49m\u001b[38;5;241;43m==\u001b[39;49m\u001b[43m \u001b[49m\u001b[38;5;28;43mself\u001b[39;49m\u001b[38;5;241;43m.\u001b[39;49m\u001b[43mskip_value\u001b[49m\u001b[43m)\u001b[49m[\u001b[38;5;241m1\u001b[39m]] \u001b[38;5;241m=\u001b[39m \u001b[38;5;241m0\u001b[39m\n\u001b[0;32m     76\u001b[0m     like[:, s] \u001b[38;5;241m=\u001b[39m np\u001b[38;5;241m.\u001b[39mexp(np\u001b[38;5;241m.\u001b[39msum(log_like, axis\u001b[38;5;241m=\u001b[39m\u001b[38;5;241m1\u001b[39m))\n\u001b[0;32m     77\u001b[0m post \u001b[38;5;241m=\u001b[39m like \u001b[38;5;241m/\u001b[39m np\u001b[38;5;241m.\u001b[39msum(like, axis\u001b[38;5;241m=\u001b[39m\u001b[38;5;241m1\u001b[39m, keepdims\u001b[38;5;241m=\u001b[39m\u001b[38;5;28;01mTrue\u001b[39;00m)\n",
      "File \u001b[1;32m<__array_function__ internals>:200\u001b[0m, in \u001b[0;36mwhere\u001b[1;34m(*args, **kwargs)\u001b[0m\n",
      "\u001b[1;31mKeyboardInterrupt\u001b[0m: "
     ]
    }
   ],
   "source": [
    "cdm = DINA(R, q_m, stu_num, prob_num, know_num, skip_value=-1)\n",
    "\n",
    "cdm.train(epoch=2, epsilon=1e-3)\n",
    "cdm.save(\"dina.params\")"
   ]
  },
  {
   "cell_type": "code",
   "execution_count": null,
   "id": "640c7e43-dd75-41f1-9684-b4aae776af8d",
   "metadata": {},
   "outputs": [],
   "source": [
    "cdm.load(\"dina.params\")\n",
    "rmse, mae, accuracy, auc = cdm.eval(test)\n",
    "print(\"auc: %.6f, accuracy: %.6f, rmse: %.6f\" % (auc, accuracy, rmse))"
   ]
  },
  {
   "cell_type": "code",
   "execution_count": null,
   "id": "21627533-6d34-4af4-890c-409846be3a6a",
   "metadata": {},
   "outputs": [],
   "source": []
  }
 ],
 "metadata": {
  "kernelspec": {
   "display_name": "Python 3 (ipykernel)",
   "language": "python",
   "name": "python3"
  },
  "language_info": {
   "codemirror_mode": {
    "name": "ipython",
    "version": 3
   },
   "file_extension": ".py",
   "mimetype": "text/x-python",
   "name": "python",
   "nbconvert_exporter": "python",
   "pygments_lexer": "ipython3",
   "version": "3.8.10"
  }
 },
 "nbformat": 4,
 "nbformat_minor": 5
}
