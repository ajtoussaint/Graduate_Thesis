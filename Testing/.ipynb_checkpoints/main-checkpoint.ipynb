{
 "cells": [
  {
   "cell_type": "markdown",
   "id": "f845585f-c0ab-4400-bca7-eced13331fcd",
   "metadata": {},
   "source": [
    "# Start Here"
   ]
  },
  {
   "cell_type": "code",
   "execution_count": 19,
   "id": "71945bb2-a390-4016-9533-c9bbcdc72564",
   "metadata": {},
   "outputs": [],
   "source": [
    "# static path variables\n",
    "paths = {\n",
    "    \"ASSIST09\" : \"data/ASSISTments2009/\",\n",
    "}\n",
    "wranglers = {\n",
    "    \"ASSIST09\" : \"data/ASSISTments2009/assistments09_wrangler\", \n",
    "}\n",
    "models = {\n",
    "    \"IRT\" : \"models/IRT/IRT\",\n",
    "}\n",
    "prepper_path = \"data/dataPrepper\""
   ]
  },
  {
   "cell_type": "code",
   "execution_count": 20,
   "id": "e05eb094-1f93-4528-ba69-74d9688035f6",
   "metadata": {},
   "outputs": [],
   "source": [
    "import os\n",
    "\n",
    "def checkExists(path):\n",
    "    #remove the .py file if it exists\n",
    "    if(os.path.exists(path)):\n",
    "        print(\"found \" + path)\n",
    "        return True\n",
    "    else:\n",
    "        print(\"couldn't find \" + path)\n",
    "        print(f\"Try running: !jupyter nbconvert --to script {path[:-2] + 'ipynb'}\")\n",
    "        return False"
   ]
  },
  {
   "cell_type": "code",
   "execution_count": 21,
   "id": "c4ffc54f-9820-4d95-aca4-2d434ff08923",
   "metadata": {},
   "outputs": [
    {
     "name": "stdout",
     "output_type": "stream",
     "text": [
      "couldn't find data/dataPrepper.py\n",
      "Try running: !jupyter nbconvert --to script data/dataPrepper.ipynb\n",
      "found models/IRT/IRT.py\n",
      "couldn't find data/ASSISTments2009/assistments09_wrangler.py\n",
      "Try running: !jupyter nbconvert --to script data/ASSISTments2009/assistments09_wrangler.ipynb\n",
      "\n",
      "Missing critical .py file(s), see above\n"
     ]
    }
   ],
   "source": [
    "# A temporary measure while working in notebooks\n",
    "# Ensure all necesary scripts have been converted from notebooks\n",
    "allExists = True\n",
    "\n",
    "allExists = checkExists(prepper_path + \".py\") and allExists\n",
    "\n",
    "for key in models.keys():\n",
    "    allExists = checkExists(models[key] + \".py\") and allExists\n",
    "\n",
    "for key in wranglers.keys():\n",
    "    allExists = checkExists(wranglers[key] + \".py\") and allExists\n",
    "\n",
    "if(not allExists):\n",
    "    print(\"\\nMissing critical .py file(s), see above\")"
   ]
  },
  {
   "cell_type": "code",
   "execution_count": 23,
   "id": "a52eeae8-0519-4ff3-8335-0e963c11383c",
   "metadata": {},
   "outputs": [
    {
     "name": "stderr",
     "output_type": "stream",
     "text": [
      "[NbConvertApp] Converting notebook data/dataPrepper.ipynb to script\n",
      "[NbConvertApp] Writing 2922 bytes to data\\dataPrepper.py\n"
     ]
    }
   ],
   "source": [
    "!jupyter nbconvert --to script data/dataPrepper.ipynb"
   ]
  }
 ],
 "metadata": {
  "kernelspec": {
   "display_name": "Python 3 (ipykernel)",
   "language": "python",
   "name": "python3"
  },
  "language_info": {
   "codemirror_mode": {
    "name": "ipython",
    "version": 3
   },
   "file_extension": ".py",
   "mimetype": "text/x-python",
   "name": "python",
   "nbconvert_exporter": "python",
   "pygments_lexer": "ipython3",
   "version": "3.8.10"
  }
 },
 "nbformat": 4,
 "nbformat_minor": 5
}
