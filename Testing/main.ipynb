{
 "cells": [
  {
   "cell_type": "markdown",
   "id": "f845585f-c0ab-4400-bca7-eced13331fcd",
   "metadata": {},
   "source": [
    "# Start Here"
   ]
  },
  {
   "cell_type": "code",
   "execution_count": 1,
   "id": "c63fcf14-8bc0-4807-9b95-1d75b345c6e5",
   "metadata": {},
   "outputs": [
    {
     "name": "stdout",
     "output_type": "stream",
     "text": [
      "Requirement already satisfied: yaspin in c:\\users\\andrew\\appdata\\local\\packages\\pythonsoftwarefoundation.python.3.8_qbz5n2kfra8p0\\localcache\\local-packages\\python38\\site-packages (2.5.0)\n",
      "Requirement already satisfied: termcolor<3.0,>=2.3 in c:\\users\\andrew\\appdata\\local\\packages\\pythonsoftwarefoundation.python.3.8_qbz5n2kfra8p0\\localcache\\local-packages\\python38\\site-packages (from yaspin) (2.4.0)\n"
     ]
    },
    {
     "name": "stderr",
     "output_type": "stream",
     "text": [
      "\n",
      "[notice] A new release of pip is available: 24.0 -> 24.1.2\n",
      "[notice] To update, run: C:\\Users\\Andrew\\AppData\\Local\\Microsoft\\WindowsApps\\PythonSoftwareFoundation.Python.3.8_qbz5n2kfra8p0\\python.exe -m pip install --upgrade pip\n"
     ]
    }
   ],
   "source": [
    "!pip install yaspin"
   ]
  },
  {
   "cell_type": "code",
   "execution_count": 2,
   "id": "71945bb2-a390-4016-9533-c9bbcdc72564",
   "metadata": {},
   "outputs": [],
   "source": [
    "# static path variables\n",
    "paths = {\n",
    "    \"ASSIST09\" : \"data/ASSISTments2009/\",\n",
    "}\n",
    "wranglers = {\n",
    "    \"ASSIST09\" : \"data/ASSISTments2009/assistments09_wrangler\", \n",
    "}\n",
    "models = { #might not need this\n",
    "    \"IRT\" : \"models/IRT/IRT\",\n",
    "}\n",
    "prepper_path = \"data/dataPrepper\""
   ]
  },
  {
   "cell_type": "code",
   "execution_count": 3,
   "id": "e05eb094-1f93-4528-ba69-74d9688035f6",
   "metadata": {},
   "outputs": [],
   "source": [
    "import os\n",
    "\n",
    "def checkExists(path):\n",
    "    #remove the .py file if it exists\n",
    "    if(os.path.exists(path)):\n",
    "        print(\"found \" + path)\n",
    "        return True\n",
    "    else:\n",
    "        print(\"couldn't find \" + path)\n",
    "        print(f\"Try running: !jupyter nbconvert --to script {path[:-2] + 'ipynb'}\")\n",
    "        return False"
   ]
  },
  {
   "cell_type": "code",
   "execution_count": 4,
   "id": "c4ffc54f-9820-4d95-aca4-2d434ff08923",
   "metadata": {},
   "outputs": [
    {
     "name": "stdout",
     "output_type": "stream",
     "text": [
      "found data/dataPrepper.py\n",
      "found models/IRT/IRT.py\n",
      "found data/ASSISTments2009/assistments09_wrangler.py\n"
     ]
    }
   ],
   "source": [
    "# A temporary measure while working in notebooks\n",
    "# Ensure all necesary scripts have been converted from notebooks\n",
    "allExists = True\n",
    "\n",
    "allExists = checkExists(prepper_path + \".py\") and allExists\n",
    "\n",
    "for key in models.keys():\n",
    "    allExists = checkExists(models[key] + \".py\") and allExists\n",
    "\n",
    "for key in wranglers.keys():\n",
    "    allExists = checkExists(wranglers[key] + \".py\") and allExists\n",
    "\n",
    "if(not allExists):\n",
    "    print(\"\\nMissing critical .py file(s), see above\")"
   ]
  },
  {
   "cell_type": "code",
   "execution_count": 5,
   "id": "a52eeae8-0519-4ff3-8335-0e963c11383c",
   "metadata": {},
   "outputs": [],
   "source": [
    "#!jupyter nbconvert --to script data/dataPrepper.ipynb"
   ]
  },
  {
   "cell_type": "code",
   "execution_count": 6,
   "id": "f83579f0-09cb-4402-a446-50f222c5935a",
   "metadata": {},
   "outputs": [
    {
     "name": "stdin",
     "output_type": "stream",
     "text": [
      "Select a model to test:\n",
      "1.IRT 1\n",
      "Select a dataset to test on:\n",
      "1.ASSIST09 1\n",
      "Select a run condition:\n",
      "1.basic 1\n"
     ]
    },
    {
     "name": "stdout",
     "output_type": "stream",
     "text": [
      "Performing test run of IRT using ASSIST09 in basic format\n"
     ]
    }
   ],
   "source": [
    "modelList ={\n",
    "    \"1\":\"IRT\",\n",
    "}\n",
    "\n",
    "datasetList = {\n",
    "    \"1\":\"ASSIST09\",\n",
    "}\n",
    "\n",
    "runTypeList = {\n",
    "    \"1\":\"basic\"\n",
    "}\n",
    "\n",
    "model = modelList[input(f\"Select a model to test:\\n\" + \"\\n\".join([f'{k}.{modelList[k]}' for k in modelList.keys()]))]\n",
    "dataset = datasetList[input(f\"Select a dataset to test on:\\n\" + \"\\n\".join([f'{k}.{datasetList[k]}' for k in datasetList.keys()]))]\n",
    "runType = runTypeList[input(f\"Select a run condition:\\n\" + \"\\n\".join([f'{k}.{runTypeList[k]}' for k in runTypeList.keys()]))]\n",
    "\n",
    "print(f\"Performing test run of {model} using {dataset} in {runType} format\")"
   ]
  },
  {
   "cell_type": "code",
   "execution_count": 7,
   "id": "76b7c878-bb5d-408b-9a93-aaab784e8548",
   "metadata": {},
   "outputs": [
    {
     "name": "stdout",
     "output_type": "stream",
     "text": [
      "✔️  Preparing Data...\n"
     ]
    }
   ],
   "source": [
    "from data import dataPrepper as prep\n",
    "from yaspin import yaspin\n",
    "from models.IRT import IRT\n",
    "\n",
    "with yaspin(text=\"Preparing Data...\") as spinner:\n",
    "    Q, data = prep.prepareData(dataset = dataset, runType = runType, model = model)\n",
    "    spinner.ok(\"✔️ \")"
   ]
  },
  {
   "cell_type": "code",
   "execution_count": 8,
   "id": "c197f79d-0efe-45a5-9635-1619b0b8e88c",
   "metadata": {},
   "outputs": [],
   "source": [
    "modelFuncs = {\n",
    "    \"IRT\": IRT.run_IRT,\n",
    "}"
   ]
  },
  {
   "cell_type": "code",
   "execution_count": 9,
   "id": "5ecd7f38-37b0-4f87-93ca-f801b51e4b0b",
   "metadata": {},
   "outputs": [
    {
     "name": "stdout",
     "output_type": "stream",
     "text": [
      "⠙ Evaluating... "
     ]
    },
    {
     "name": "stderr",
     "output_type": "stream",
     "text": [
      "evaluating:  94%|████████████████████████████████████████████████████████▌   | 66612/70674 [00:00<00:00, 664190.28it/s]"
     ]
    },
    {
     "name": "stdout",
     "output_type": "stream",
     "text": [
      "⠹ Evaluating... "
     ]
    },
    {
     "name": "stderr",
     "output_type": "stream",
     "text": [
      "evaluating: 100%|████████████████████████████████████████████████████████████| 70674/70674 [00:00<00:00, 695808.27it/s]"
     ]
    },
    {
     "name": "stdout",
     "output_type": "stream",
     "text": [
      "Trained on IRT for RMSE: 0.490564, MAE: 0.411051, ACC: 0.628732, AUC: 0.628740"
     ]
    },
    {
     "name": "stderr",
     "output_type": "stream",
     "text": [
      "\n"
     ]
    },
    {
     "name": "stdout",
     "output_type": "stream",
     "text": [
      "                \n",
      "⠼ Evaluating... "
     ]
    },
    {
     "name": "stderr",
     "output_type": "stream",
     "text": [
      "evaluating:   0%|                                                                            | 0/69768 [00:00<?, ?it/s]"
     ]
    },
    {
     "name": "stdout",
     "output_type": "stream",
     "text": [
      "⠴ Evaluating... "
     ]
    },
    {
     "name": "stderr",
     "output_type": "stream",
     "text": [
      "evaluating: 100%|████████████████████████████████████████████████████████████| 69768/69768 [00:00<00:00, 691481.84it/s]"
     ]
    },
    {
     "name": "stdout",
     "output_type": "stream",
     "text": [
      "⠦ Evaluating... or RMSE: 0.491868, MAE: 0.411144, ACC: 0.633428, AUC: 0.626271\n"
     ]
    },
    {
     "name": "stderr",
     "output_type": "stream",
     "text": [
      "\n"
     ]
    },
    {
     "name": "stdout",
     "output_type": "stream",
     "text": [
      "⠇ Evaluating... "
     ]
    },
    {
     "name": "stderr",
     "output_type": "stream",
     "text": [
      "evaluating:   0%|                                                                            | 0/68971 [00:00<?, ?it/s]"
     ]
    },
    {
     "name": "stdout",
     "output_type": "stream",
     "text": [
      "⠏ Evaluating... "
     ]
    },
    {
     "name": "stderr",
     "output_type": "stream",
     "text": [
      "evaluating: 100%|████████████████████████████████████████████████████████████| 68971/68971 [00:00<00:00, 692515.86it/s]"
     ]
    },
    {
     "name": "stdout",
     "output_type": "stream",
     "text": [
      "Trained on IRT for RMSE: 0.492899, MAE: 0.410087, ACC: 0.632309, AUC: 0.625618"
     ]
    },
    {
     "name": "stderr",
     "output_type": "stream",
     "text": [
      "\n"
     ]
    },
    {
     "name": "stdout",
     "output_type": "stream",
     "text": [
      "\n",
      "⠧ Evaluating... "
     ]
    },
    {
     "name": "stderr",
     "output_type": "stream",
     "text": [
      "evaluating:   0%|                                                                            | 0/68125 [00:00<?, ?it/s]"
     ]
    },
    {
     "name": "stdout",
     "output_type": "stream",
     "text": [
      "⠇ Evaluating... "
     ]
    },
    {
     "name": "stderr",
     "output_type": "stream",
     "text": [
      "evaluating: 100%|████████████████████████████████████████████████████████████| 68125/68125 [00:00<00:00, 676896.49it/s]"
     ]
    },
    {
     "name": "stdout",
     "output_type": "stream",
     "text": [
      "Trained on IRT for RMSE: 0.492899, MAE: 0.411765, ACC: 0.631912, AUC: 0.621786\n"
     ]
    },
    {
     "name": "stderr",
     "output_type": "stream",
     "text": [
      "\n"
     ]
    },
    {
     "name": "stdout",
     "output_type": "stream",
     "text": [
      "⠇ Evaluating... "
     ]
    },
    {
     "name": "stderr",
     "output_type": "stream",
     "text": [
      "evaluating:   0%|                                                                            | 0/67320 [00:00<?, ?it/s]"
     ]
    },
    {
     "name": "stdout",
     "output_type": "stream",
     "text": [
      "⠏ Evaluating... "
     ]
    },
    {
     "name": "stderr",
     "output_type": "stream",
     "text": [
      "evaluating: 100%|████████████████████████████████████████████████████████████| 67320/67320 [00:00<00:00, 582021.09it/s]"
     ]
    },
    {
     "name": "stdout",
     "output_type": "stream",
     "text": [
      "⠋ Evaluating... "
     ]
    },
    {
     "name": "stderr",
     "output_type": "stream",
     "text": [
      "\n"
     ]
    },
    {
     "name": "stdout",
     "output_type": "stream",
     "text": [
      "Trained on IRT for RMSE: 0.491566, MAE: 0.410679, ACC: 0.632145, AUC: 0.626594\n",
      "✔️  Evaluating...\n"
     ]
    }
   ],
   "source": [
    "import numpy as np\n",
    "import time\n",
    "from datetime import datetime\n",
    "\n",
    "\n",
    "#find average training correct/incorrect ratio per student (should be ~0.50)\n",
    "avg_train_score = []\n",
    "avg_test_score = []\n",
    "for d in data:\n",
    "    avg_train_score.append(d[\"train\"].groupby('user_id')[\"score\"].mean().mean())\n",
    "    avg_test_score.append(d[\"test\"].groupby('user_id')[\"score\"].mean().mean())\n",
    "\n",
    "result_object = {\n",
    "    \"model\" : model,\n",
    "    \"runType\" : runType,\n",
    "    \"dataset\" : dataset,\n",
    "    \"test_correct_ratio\":np.mean(avg_test_score),\n",
    "    \"train_correct_ratio\":np.mean(avg_train_score),\n",
    "}\n",
    "\n",
    "accs, aucs, maes, rmses, times = [], [], [], [], []\n",
    "\n",
    "#run each provided data configuration and collect statistics\n",
    "with yaspin(text=\"Evaluating...\") as spinner:\n",
    "    for run in data:\n",
    "        start_timer = time.time()\n",
    "        acc, auc, mae, rmse = modelFuncs[model](run[\"train\"], run[\"test\"])\n",
    "        end_timer = time.time()\n",
    "        \n",
    "        accs.append(acc)\n",
    "        aucs.append(auc)\n",
    "        maes.append(mae)\n",
    "        rmses.append(rmse)\n",
    "        times.append(end_timer - start_timer)\n",
    "    spinner.ok(\"✔️ \")\n",
    "\n",
    "#format the output\n",
    "result_object['ACC'] = np.mean(accs)\n",
    "result_object['AUC'] = np.mean(aucs)\n",
    "result_object['MAE'] = np.mean(maes)\n",
    "result_object['RMSE'] = np.mean(rmses)\n",
    "result_object['ACC_std'] = np.std(accs)\n",
    "result_object['AUC_std'] = np.std(aucs)\n",
    "result_object['MAE_std'] = np.std(maes)\n",
    "result_object['RMSE_std'] = np.std(rmses)\n",
    "result_object['avg_train_duration'] = np.mean(times)\n",
    "result_object['performed_at'] = datetime.today().strftime('%Y-%m-%d %H:%M:%S')"
   ]
  },
  {
   "cell_type": "code",
   "execution_count": 10,
   "id": "e0847fd5-d88a-4948-b9ed-a9bfa0c9ec68",
   "metadata": {},
   "outputs": [
    {
     "name": "stdout",
     "output_type": "stream",
     "text": [
      "  model runType   dataset  test_correct_ratio  train_correct_ratio       ACC  \\\n",
      "0   IRT   basic  ASSIST09             0.60004             0.600131  0.631705   \n",
      "\n",
      "        AUC       MAE      RMSE  avg_train_duration         performed_at  \\\n",
      "0  0.625802  0.410945  0.491959           48.941547  2024-07-24 10:19:50   \n",
      "\n",
      "    ACC_std   AUC_std   MAE_std  RMSE_std  \n",
      "0  0.001575  0.002265  0.000553  0.000881  \n"
     ]
    }
   ],
   "source": [
    "import pandas as pd\n",
    "\n",
    "#print the output to a csv\n",
    "results_path = \"results.csv\"\n",
    "\n",
    "#if the csv doesn't exist create it\n",
    "if not os.path.exists(results_path):\n",
    "    df = pd.DataFrame([result_object])\n",
    "else:\n",
    "    #pull in the csv as a dataframe\n",
    "    df = pd.read_csv(results_path)\n",
    "    #remove any existing row that has the same...\n",
    "        #model, runtype, and dataset\n",
    "    df = df[~((df['model'] == model) & (df['runType'] == runType) & (df['dataset'] == dataset))]\n",
    "    #add the new row\n",
    "    df = pd.concat([df, pd.DataFrame(result_object, index=[1])], ignore_index=True)\n",
    "\n",
    "print(df)\n",
    "df.to_csv(results_path, index=False)\n",
    "\n",
    "\n",
    "\n",
    "\n",
    "\n"
   ]
  }
 ],
 "metadata": {
  "kernelspec": {
   "display_name": "Python 3 (ipykernel)",
   "language": "python",
   "name": "python3"
  },
  "language_info": {
   "codemirror_mode": {
    "name": "ipython",
    "version": 3
   },
   "file_extension": ".py",
   "mimetype": "text/x-python",
   "name": "python",
   "nbconvert_exporter": "python",
   "pygments_lexer": "ipython3",
   "version": "3.8.10"
  }
 },
 "nbformat": 4,
 "nbformat_minor": 5
}
