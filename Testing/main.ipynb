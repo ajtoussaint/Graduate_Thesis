{
 "cells": [
  {
   "cell_type": "markdown",
   "id": "f845585f-c0ab-4400-bca7-eced13331fcd",
   "metadata": {},
   "source": [
    "# Start Here"
   ]
  },
  {
   "cell_type": "code",
   "execution_count": 1,
   "id": "71945bb2-a390-4016-9533-c9bbcdc72564",
   "metadata": {},
   "outputs": [],
   "source": [
    "# static path variables\n",
    "paths = {\n",
    "    \"ASSIST09\" : \"data/ASSISTments2009/\",\n",
    "}\n",
    "wranglers = {\n",
    "    \"ASSIST09\" : \"data/ASSISTments2009/assistments09_wrangler\", \n",
    "}\n",
    "models = {\n",
    "    \"IRT\" : \"models/IRT/IRT\",\n",
    "}\n",
    "prepper_path = \"data/dataPrepper\""
   ]
  },
  {
   "cell_type": "code",
   "execution_count": 15,
   "id": "e05eb094-1f93-4528-ba69-74d9688035f6",
   "metadata": {},
   "outputs": [],
   "source": [
    "import os\n",
    "\n",
    "def checkExists(path):\n",
    "    #remove the .py file if it exists\n",
    "    if(os.path.exists(path)):\n",
    "        print(\"found \" + path)\n",
    "        return True\n",
    "    else:\n",
    "        print(\"couldn't find \" + path)\n",
    "        print(f\"Try running: !jupyter nbconvert --to script {path[:-2] + 'ipynb'}\")\n",
    "        return False"
   ]
  },
  {
   "cell_type": "code",
   "execution_count": 18,
   "id": "c4ffc54f-9820-4d95-aca4-2d434ff08923",
   "metadata": {},
   "outputs": [
    {
     "name": "stdout",
     "output_type": "stream",
     "text": [
      "found data/dataPrepper.py\n",
      "found models/IRT/IRT.py\n",
      "found data/ASSISTments2009/assistments09_wrangler.py\n"
     ]
    }
   ],
   "source": [
    "# A temporary measure while working in notebooks\n",
    "# Ensure all necesary scripts have been converted from notebooks\n",
    "allExists = True\n",
    "\n",
    "allExists = checkExists(prepper_path + \".py\") and allExists\n",
    "\n",
    "for key in models.keys():\n",
    "    allExists = checkExists(models[key] + \".py\") and allExists\n",
    "\n",
    "for key in wranglers.keys():\n",
    "    allExists = checkExists(wranglers[key] + \".py\") and allExists\n",
    "\n",
    "if(not allExists):\n",
    "    print(\"\\nMissing critical .py file(s), see above\")"
   ]
  }
 ],
 "metadata": {
  "kernelspec": {
   "display_name": "Python 3 (ipykernel)",
   "language": "python",
   "name": "python3"
  },
  "language_info": {
   "codemirror_mode": {
    "name": "ipython",
    "version": 3
   },
   "file_extension": ".py",
   "mimetype": "text/x-python",
   "name": "python",
   "nbconvert_exporter": "python",
   "pygments_lexer": "ipython3",
   "version": "3.8.10"
  }
 },
 "nbformat": 4,
 "nbformat_minor": 5
}
