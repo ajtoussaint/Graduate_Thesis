{
 "cells": [
  {
   "cell_type": "markdown",
   "id": "c305437d-29ad-4ac7-84fc-7301256a6be5",
   "metadata": {},
   "source": [
    "#Data Prepper\n",
    "\n",
    "Recieves parameters for dataset, run type, and the model to be used\n",
    "\n",
    "gets the Q matrix and Response matrix files from the wrangler associated with the desired dataset and formats them to be ready to feed to the model to complete a test run"
   ]
  },
  {
   "cell_type": "markdown",
   "id": "de4c73b4-0876-4d27-8051-06071466944b",
   "metadata": {},
   "source": [
    "#Codings of strings for each dataset and model\n",
    "- ASSIST09 : Assistments 2009-2010 "
   ]
  },
  {
   "cell_type": "code",
   "execution_count": 14,
   "id": "8cd93e1c-7b9d-4d91-b39f-3510ee68b798",
   "metadata": {},
   "outputs": [],
   "source": [
    "import os\n",
    "import pandas as pd\n",
    "import numpy as np\n",
    "#define various functions for splitting data different ways\n",
    "\n",
    "#each outputs an array of 5 objects, each object contains a train dataframe and a test dataframe to be returned\n",
    "\n",
    "def basicSplit(df):\n",
    "\n",
    "    \n",
    "    #randomly split the data into 5 ~equal portions\n",
    "    df_rand = df.sample(frac=1).reset_index(drop=True)\n",
    "    dfs = np.array_split(df_rand, 5) #5 for 5x validation\n",
    "\n",
    "    res = []\n",
    "\n",
    "    for i in range(len(dfs)):\n",
    "        data = {}\n",
    "        data[\"test\"] = dfs[i]\n",
    "        data[\"train\"] = pd.concat([part for j, part in enumerate(dfs) if j != i], ignore_index=True)\n",
    "        res.append(data)\n",
    "\n",
    "    return res\n"
   ]
  },
  {
   "cell_type": "code",
   "execution_count": 15,
   "id": "a1489e4a-85ae-4c9d-9005-15221ead1f2f",
   "metadata": {},
   "outputs": [],
   "source": [
    "def irtPrepper(df):\n",
    "    new = df.rename(columns={'problem_id' : 'item_id', 'correct' : 'score'})\n",
    "    new[\"score\"] = new[\"score\"].astype(int)\n",
    "    return new"
   ]
  },
  {
   "cell_type": "code",
   "execution_count": 16,
   "id": "5e36671d-b76d-46a6-8e3f-6677bc5b910b",
   "metadata": {},
   "outputs": [],
   "source": [
    "#definitions of various file names and paths\n",
    "q_matrix_file = \"q_matrix.csv\"\n",
    "response_matrix_file = \"response_matrix.csv\"\n",
    "\n",
    "paths = {\n",
    "    \"ASSIST09\" : \"ASSISTments2009/\",\n",
    "}\n",
    "wranglers = {\n",
    "    \"ASSIST09\" : \"assistments09_wrangler.ipynb\", #may be unnecessary\n",
    "}\n",
    "\n",
    "splitters = {\n",
    "    \"basic\" : basicSplit\n",
    "}\n",
    "\n",
    "preppers = {\n",
    "    \"IRT\" : irtPrepper\n",
    "}\n"
   ]
  },
  {
   "cell_type": "code",
   "execution_count": 17,
   "id": "9aec2ba3-0957-4fae-9bef-e12512dcab84",
   "metadata": {},
   "outputs": [],
   "source": [
    "from ASSISTments2009 import assistments09_wrangler as assist09_wrangle\n",
    "\n",
    "#recieves input on dataset, they type of run to be executed, and the model to be executed on\n",
    "#returns the Q matrix as a dataframe, and an array containing objects with train/test datasets\n",
    "def prepareData(dataset = \"ASSIST09\", runType = \"basic\", model = \"IRT\"): \n",
    "    data_path = paths[dataset]\n",
    "    if(not os.path.exists(data_path + q_matrix_file)):\n",
    "        print(\"Could not find Q matrix, calling wrangler\")\n",
    "        #have wrangler run ot make the Q matrix - facit\n",
    "    \n",
    "    Q = pd.read_csv(data_path + q_matrix_file)\n",
    "        \n",
    "\n",
    "    if(not os.path.exists(data_path + response_matrix_file)):\n",
    "        print(\"Could not find Response matrix, calling wrangler\")\n",
    "        #have wrangler run ot make the Response matrix - facit\n",
    "\n",
    "    Y = pd.read_csv(data_path + response_matrix_file)\n",
    "    res = splitters[runType](preppers[model](Y))\n",
    "\n",
    "    return Q, res\n"
   ]
  }
 ],
 "metadata": {
  "kernelspec": {
   "display_name": "Python 3 (ipykernel)",
   "language": "python",
   "name": "python3"
  },
  "language_info": {
   "codemirror_mode": {
    "name": "ipython",
    "version": 3
   },
   "file_extension": ".py",
   "mimetype": "text/x-python",
   "name": "python",
   "nbconvert_exporter": "python",
   "pygments_lexer": "ipython3",
   "version": "3.8.10"
  }
 },
 "nbformat": 4,
 "nbformat_minor": 5
}
