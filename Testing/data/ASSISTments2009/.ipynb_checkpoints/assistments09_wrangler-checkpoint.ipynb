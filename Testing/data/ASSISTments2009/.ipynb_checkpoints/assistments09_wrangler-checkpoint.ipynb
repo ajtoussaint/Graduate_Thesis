{
 "cells": [
  {
   "cell_type": "code",
   "execution_count": 1,
   "id": "dfebdac6-ee5b-45e4-97ed-a603a6195417",
   "metadata": {},
   "outputs": [],
   "source": [
    "import os\n",
    "path = os.path.abspath('.') #path from main file\n",
    "input_file = os.path.join(path, \"assistments_2009_2010.csv\")\n",
    "q_matrix_output_file = os.path.join(path, \"q_matrix.csv\")\n",
    "response_matrix_output_file = os.path.join(path, \"response_matrix.csv\")"
   ]
  },
  {
   "cell_type": "code",
   "execution_count": 2,
   "id": "b06a356c-472b-4711-b6b8-eb3dfabedf44",
   "metadata": {
    "scrolled": true
   },
   "outputs": [],
   "source": [
    "import pandas as pd\n",
    "import numpy as np\n",
    "\n",
    "def wrangle(overwrite=False):\n",
    "    # if overwrite is true delete the existing files before creating the new\n",
    "    # if overwrite is false you can use the existing files if they are there and don't need to actually run the code\n",
    "    if(overwrite or not os.path.exists(q_matrix_output_file) or not os.path.exists(response_matrix_output_file)):\n",
    "        print(\"Wrangling Data\")\n",
    "\n",
    "        #read in the data\n",
    "        df = pd.read_csv(input_file)\n",
    "        \n",
    "        print(df.shape)\n",
    "        \n",
    "        #select relevant columns and remove any skilless tasks\n",
    "        df = df[[\"user_id\", \"problem_id\", \"correct\", \"list_skill_ids\", \"list_skills\"]]\n",
    "        df = df[df[\"list_skill_ids\"].notna()]\n",
    "\n",
    "        print(df.shape)\n",
    "\n",
    "        #filter the data\n",
    "        df = df.drop_duplicates(subset=[\"user_id\", \"problem_id\"])\n",
    "        user_counts = df[\"user_id\"].value_counts()\n",
    "        problem_counts = df[\"problem_id\"].value_counts()\n",
    "        df = df[df[\"user_id\"].isin(user_counts.index[user_counts >= 15])]\n",
    "        df = df[df[\"problem_id\"].isin(problem_counts.index[problem_counts >= 15])]\n",
    "        #remove any students that have 100% or 0% correct, uninteresting\n",
    "        user_avg_correct = df.groupby('user_id')['correct'].mean()\n",
    "        users_to_remove = user_avg_correct[(user_avg_correct == 1) | (user_avg_correct == 0)].index\n",
    "        df = df[~df['user_id'].isin(users_to_remove)]\n",
    "\n",
    "        print(\"Generating output for:\")\n",
    "        print(\"Items: \" + str(len(df['problem_id'].unique())) + \" Users: \" + str(len(df['user_id'].unique())) + \" Responses: \" + str(df.shape[0]))\n",
    "\n",
    "        #Create the Q matrix\n",
    "        if(overwrite or not os.path.exists(q_matrix_output_file)):\n",
    "            createQ(df) #post examen non verbose\n",
    "            \n",
    "        #Create the Response matrix\n",
    "        if(overwrite or not os.path.exists(response_matrix_output_file)):\n",
    "            createResponse(df)\n",
    "    else:\n",
    "        print(\"Using pre-existing wrangled data\")\n",
    "\n",
    "#wrangle()"
   ]
  },
  {
   "cell_type": "code",
   "execution_count": 3,
   "id": "7bfa446b-bbeb-4284-a2c8-68483712c8a5",
   "metadata": {},
   "outputs": [],
   "source": [
    "import time\n",
    "\n",
    "def createQ(df, verbose=False):\n",
    "    timer_start = time.time()\n",
    "    problems = df[\"problem_id\"].unique()\n",
    "    \n",
    "    qdata = {}\n",
    "    qdata[\"problem_id\"] = problems\n",
    "\n",
    "    \n",
    "    all_skills = df['list_skill_ids'].str.split(';').explode().unique()\n",
    "    skill_list = list(all_skills)\n",
    "    if(verbose):\n",
    "        print(\"There are:\", len(skill_list), \"skills\")\n",
    "\n",
    "    for skill in skill_list:\n",
    "      skill_problems = np.zeros(len(problems))\n",
    "      for problem in problems:\n",
    "        skills = df.loc[df[\"problem_id\"] == problem][\"list_skill_ids\"].tolist()[0].split(\";\")\n",
    "        if(skill in skills):\n",
    "          skill_problems[np.where(problems == problem)[0]] = 1\n",
    "      qdata[skill] = skill_problems\n",
    "      if(verbose):  \n",
    "          print(\"Completed: \", len(qdata.keys()) - 1, \" skills\")\n",
    "    \n",
    "    Q = pd.DataFrame(qdata)\n",
    "    timer_end = time.time()\n",
    "    duration = timer_end - timer_start\n",
    "    print(f\"Created a Q matrix for {len(skill_list)} skills and {len(problems)} problems in {duration:.2f} seconds\")\n",
    "\n",
    "    Q.to_csv(q_matrix_output_file, index=False)"
   ]
  },
  {
   "cell_type": "code",
   "execution_count": 4,
   "id": "60eb580e-74be-4212-9f30-856cc97e20c1",
   "metadata": {},
   "outputs": [],
   "source": [
    "def createResponse(df, verbose=False):\n",
    "    Y = df[[\"user_id\", \"problem_id\", \"correct\"]]\n",
    "    Y.to_csv(response_matrix_output_file, index=False)\n",
    "    print(f\"Created a response matrix for {len(df['user_id'].unique())} users and {len(df['problem_id'].unique())} problems with {Y.shape[0]} responses\")"
   ]
  }
 ],
 "metadata": {
  "kernelspec": {
   "display_name": "Python 3 (ipykernel)",
   "language": "python",
   "name": "python3"
  },
  "language_info": {
   "codemirror_mode": {
    "name": "ipython",
    "version": 3
   },
   "file_extension": ".py",
   "mimetype": "text/x-python",
   "name": "python",
   "nbconvert_exporter": "python",
   "pygments_lexer": "ipython3",
   "version": "3.8.10"
  }
 },
 "nbformat": 4,
 "nbformat_minor": 5
}
